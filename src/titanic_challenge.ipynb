{
 "cells": [
  {
   "cell_type": "code",
   "execution_count": 1,
   "id": "ca67508c",
   "metadata": {},
   "outputs": [],
   "source": [
    "import numpy as np\n",
    "import pandas as pd\n",
    "import matplotlib.pyplot as plt\n",
    "import seaborn as sns\n",
    "\n",
    "from sklearn.model_selection import train_test_split, cross_val_score, GridSearchCV\n",
    "from sklearn.preprocessing import StandardScaler\n",
    "from sklearn.impute import SimpleImputer\n",
    "from sklearn.linear_model import LogisticRegression, RidgeClassifier, RidgeClassifierCV\n",
    "from sklearn.discriminant_analysis import LinearDiscriminantAnalysis, QuadraticDiscriminantAnalysis\n",
    "from sklearn.ensemble import RandomForestClassifier\n",
    "from sklearn.svm import SVC\n",
    "from sklearn.metrics import accuracy_score\n",
    "\n",
    "%matplotlib inline"
   ]
  },
  {
   "cell_type": "markdown",
   "id": "51c07810",
   "metadata": {},
   "source": [
    "### Data Cleaning and Feature Engineering"
   ]
  },
  {
   "cell_type": "code",
   "execution_count": 2,
   "id": "bac8848c",
   "metadata": {},
   "outputs": [
    {
     "name": "stdout",
     "output_type": "stream",
     "text": [
      "(891, 12)\n"
     ]
    },
    {
     "data": {
      "text/html": [
       "<div>\n",
       "<style scoped>\n",
       "    .dataframe tbody tr th:only-of-type {\n",
       "        vertical-align: middle;\n",
       "    }\n",
       "\n",
       "    .dataframe tbody tr th {\n",
       "        vertical-align: top;\n",
       "    }\n",
       "\n",
       "    .dataframe thead th {\n",
       "        text-align: right;\n",
       "    }\n",
       "</style>\n",
       "<table border=\"1\" class=\"dataframe\">\n",
       "  <thead>\n",
       "    <tr style=\"text-align: right;\">\n",
       "      <th></th>\n",
       "      <th>PassengerId</th>\n",
       "      <th>Survived</th>\n",
       "      <th>Pclass</th>\n",
       "      <th>Name</th>\n",
       "      <th>Sex</th>\n",
       "      <th>Age</th>\n",
       "      <th>SibSp</th>\n",
       "      <th>Parch</th>\n",
       "      <th>Ticket</th>\n",
       "      <th>Fare</th>\n",
       "      <th>Cabin</th>\n",
       "      <th>Embarked</th>\n",
       "    </tr>\n",
       "  </thead>\n",
       "  <tbody>\n",
       "    <tr>\n",
       "      <th>0</th>\n",
       "      <td>1</td>\n",
       "      <td>0</td>\n",
       "      <td>3</td>\n",
       "      <td>Braund, Mr. Owen Harris</td>\n",
       "      <td>male</td>\n",
       "      <td>22.0</td>\n",
       "      <td>1</td>\n",
       "      <td>0</td>\n",
       "      <td>A/5 21171</td>\n",
       "      <td>7.2500</td>\n",
       "      <td>NaN</td>\n",
       "      <td>S</td>\n",
       "    </tr>\n",
       "    <tr>\n",
       "      <th>1</th>\n",
       "      <td>2</td>\n",
       "      <td>1</td>\n",
       "      <td>1</td>\n",
       "      <td>Cumings, Mrs. John Bradley (Florence Briggs Th...</td>\n",
       "      <td>female</td>\n",
       "      <td>38.0</td>\n",
       "      <td>1</td>\n",
       "      <td>0</td>\n",
       "      <td>PC 17599</td>\n",
       "      <td>71.2833</td>\n",
       "      <td>C85</td>\n",
       "      <td>C</td>\n",
       "    </tr>\n",
       "    <tr>\n",
       "      <th>2</th>\n",
       "      <td>3</td>\n",
       "      <td>1</td>\n",
       "      <td>3</td>\n",
       "      <td>Heikkinen, Miss. Laina</td>\n",
       "      <td>female</td>\n",
       "      <td>26.0</td>\n",
       "      <td>0</td>\n",
       "      <td>0</td>\n",
       "      <td>STON/O2. 3101282</td>\n",
       "      <td>7.9250</td>\n",
       "      <td>NaN</td>\n",
       "      <td>S</td>\n",
       "    </tr>\n",
       "    <tr>\n",
       "      <th>3</th>\n",
       "      <td>4</td>\n",
       "      <td>1</td>\n",
       "      <td>1</td>\n",
       "      <td>Futrelle, Mrs. Jacques Heath (Lily May Peel)</td>\n",
       "      <td>female</td>\n",
       "      <td>35.0</td>\n",
       "      <td>1</td>\n",
       "      <td>0</td>\n",
       "      <td>113803</td>\n",
       "      <td>53.1000</td>\n",
       "      <td>C123</td>\n",
       "      <td>S</td>\n",
       "    </tr>\n",
       "    <tr>\n",
       "      <th>4</th>\n",
       "      <td>5</td>\n",
       "      <td>0</td>\n",
       "      <td>3</td>\n",
       "      <td>Allen, Mr. William Henry</td>\n",
       "      <td>male</td>\n",
       "      <td>35.0</td>\n",
       "      <td>0</td>\n",
       "      <td>0</td>\n",
       "      <td>373450</td>\n",
       "      <td>8.0500</td>\n",
       "      <td>NaN</td>\n",
       "      <td>S</td>\n",
       "    </tr>\n",
       "  </tbody>\n",
       "</table>\n",
       "</div>"
      ],
      "text/plain": [
       "   PassengerId  Survived  Pclass  \\\n",
       "0            1         0       3   \n",
       "1            2         1       1   \n",
       "2            3         1       3   \n",
       "3            4         1       1   \n",
       "4            5         0       3   \n",
       "\n",
       "                                                Name     Sex   Age  SibSp  \\\n",
       "0                            Braund, Mr. Owen Harris    male  22.0      1   \n",
       "1  Cumings, Mrs. John Bradley (Florence Briggs Th...  female  38.0      1   \n",
       "2                             Heikkinen, Miss. Laina  female  26.0      0   \n",
       "3       Futrelle, Mrs. Jacques Heath (Lily May Peel)  female  35.0      1   \n",
       "4                           Allen, Mr. William Henry    male  35.0      0   \n",
       "\n",
       "   Parch            Ticket     Fare Cabin Embarked  \n",
       "0      0         A/5 21171   7.2500   NaN        S  \n",
       "1      0          PC 17599  71.2833   C85        C  \n",
       "2      0  STON/O2. 3101282   7.9250   NaN        S  \n",
       "3      0            113803  53.1000  C123        S  \n",
       "4      0            373450   8.0500   NaN        S  "
      ]
     },
     "execution_count": 2,
     "metadata": {},
     "output_type": "execute_result"
    }
   ],
   "source": [
    "# Set data path and load training data\n",
    "file_path = \"../data\"\n",
    "train_full = pd.read_csv(f'{file_path}/train.csv')\n",
    "print(train_full.shape)\n",
    "train_full.head()"
   ]
  },
  {
   "cell_type": "code",
   "execution_count": 3,
   "id": "ab42cb66",
   "metadata": {},
   "outputs": [],
   "source": [
    "# Drop unncessary columns \n",
    "train_full = train_full.drop(['Name', 'Ticket', 'PassengerId'], axis=1)"
   ]
  },
  {
   "cell_type": "code",
   "execution_count": 4,
   "id": "bee02968",
   "metadata": {},
   "outputs": [
    {
     "name": "stdout",
     "output_type": "stream",
     "text": [
      "Survived: 0.0\n",
      "Pclass: 0.0\n",
      "Sex: 0.0\n",
      "Age: 0.19865319865319866\n",
      "SibSp: 0.0\n",
      "Parch: 0.0\n",
      "Fare: 0.0\n",
      "Cabin: 0.7710437710437711\n",
      "Embarked: 0.002244668911335578\n"
     ]
    }
   ],
   "source": [
    "# Get a count of missing values for each variable\n",
    "for var in train_full.columns:\n",
    "    total_na = train_full[var].isnull().sum()\n",
    "    print(f'{var}: {total_na/len(train_full)}')\n",
    "    \n",
    "#X['Cabin'].nunique()\n",
    "#X['Cabin'].value_counts()\n",
    "    \n",
    "# Drop cabin as it has too many missing\n",
    "train_full = train_full.drop('Cabin', axis=1)\n",
    "\n",
    "# Drop rows that have missing embarked as we cannot impute it\n",
    "train_full = train_full.dropna(subset = ['Embarked'])\n",
    "\n",
    "# Drop rows that have missing values for the target\n",
    "if train_full['Survived'].isnull().any() == True:\n",
    "    train_full = train_full.dropna(subset = ['Survived'])\n",
    "else:\n",
    "    pass"
   ]
  },
  {
   "cell_type": "code",
   "execution_count": 5,
   "id": "6bdaa51a",
   "metadata": {},
   "outputs": [],
   "source": [
    "# Create X and y objects\n",
    "X = train_full.drop('Survived', axis = 1)\n",
    "y = train_full['Survived']"
   ]
  },
  {
   "cell_type": "code",
   "execution_count": 6,
   "id": "f2358faa",
   "metadata": {},
   "outputs": [],
   "source": [
    "# Create objects for numerical and categorical columns\n",
    "object_cols = [col for col in X.columns if X[col].dtype == 'object']\n",
    "numerical_cols = [col for col in X.columns if X[col].dtype in ['int64', 'float64']]"
   ]
  },
  {
   "cell_type": "code",
   "execution_count": 7,
   "id": "fb4a6d1b",
   "metadata": {},
   "outputs": [
    {
     "name": "stdout",
     "output_type": "stream",
     "text": [
      "Sex: 2\n",
      "Embarked: 3\n"
     ]
    }
   ],
   "source": [
    "# Check number of unique values for object_cols\n",
    "for col in object_cols:\n",
    "    print(f'{col}: {X[col].nunique()}')"
   ]
  },
  {
   "cell_type": "code",
   "execution_count": 8,
   "id": "0649d730",
   "metadata": {},
   "outputs": [],
   "source": [
    "# Split X and y into training and validation sets\n",
    "X_train, X_valid, y_train, y_valid = train_test_split(X,y,random_state=100)"
   ]
  },
  {
   "cell_type": "code",
   "execution_count": 9,
   "id": "52130b82",
   "metadata": {},
   "outputs": [],
   "source": [
    "# For categorical variables in train and test, convert to dummies\n",
    "X_train = pd.get_dummies(X_train)\n",
    "X_valid = pd.get_dummies(X_valid)"
   ]
  },
  {
   "cell_type": "code",
   "execution_count": 10,
   "id": "a4879ad4",
   "metadata": {},
   "outputs": [],
   "source": [
    "# Impute Age variable in train and validation set\n",
    "imp = SimpleImputer(strategy='mean')\n",
    "X_train['Age'] = imp.fit_transform(X_train[['Age']])\n",
    "X_valid['Age'] = imp.transform(X_valid[['Age']])"
   ]
  },
  {
   "cell_type": "code",
   "execution_count": 12,
   "id": "e1225814",
   "metadata": {},
   "outputs": [],
   "source": [
    "# For numerical variables in train and test, standardize the variables\n",
    "scaler = StandardScaler()\n",
    "X_train[numerical_cols] = scaler.fit_transform(X_train[numerical_cols])\n",
    "X_valid[numerical_cols] = scaler.transform(X_valid[numerical_cols])"
   ]
  },
  {
   "cell_type": "markdown",
   "id": "473043b7",
   "metadata": {},
   "source": [
    "### Model Building (No Parameter Tuning)"
   ]
  },
  {
   "cell_type": "code",
   "execution_count": 13,
   "id": "35eeed1c",
   "metadata": {},
   "outputs": [
    {
     "name": "stdout",
     "output_type": "stream",
     "text": [
      "Score from simple logistic regression: 0.7802690582959642\n"
     ]
    }
   ],
   "source": [
    "# Model 1 - Logistic Regression (no regularization)\n",
    "glm = LogisticRegression()\n",
    "glm_model = glm.fit(X_train,y_train)\n",
    "glm_preds = glm.predict(X_valid)\n",
    "print(f'Score from simple logistic regression: {accuracy_score(y_valid, glm_preds)}')"
   ]
  },
  {
   "cell_type": "code",
   "execution_count": 14,
   "id": "d4ee2667",
   "metadata": {},
   "outputs": [
    {
     "name": "stdout",
     "output_type": "stream",
     "text": [
      "Score from simple random forest classifier: 0.7982062780269058\n"
     ]
    }
   ],
   "source": [
    "# Model 2 - RandomForest Classifier\n",
    "rf = RandomForestClassifier()\n",
    "rf_model = rf.fit(X_train,y_train)\n",
    "rf_preds = rf.predict(X_valid)\n",
    "print(f'Score from simple random forest classifier: {accuracy_score(y_valid, rf_preds)}')"
   ]
  },
  {
   "cell_type": "code",
   "execution_count": 15,
   "id": "f1eed62c",
   "metadata": {},
   "outputs": [
    {
     "name": "stdout",
     "output_type": "stream",
     "text": [
      "Score from simple SVM classifier: 0.8295964125560538\n"
     ]
    }
   ],
   "source": [
    "# Model 3 - Support Vector Machine\n",
    "svc = SVC()\n",
    "svc_model = svc.fit(X_train,y_train)\n",
    "svc_preds = svc.predict(X_valid)\n",
    "print(f'Score from simple SVM classifier: {accuracy_score(y_valid, svc_preds)}')"
   ]
  },
  {
   "cell_type": "code",
   "execution_count": 16,
   "id": "663c82ac",
   "metadata": {},
   "outputs": [
    {
     "name": "stdout",
     "output_type": "stream",
     "text": [
      "Score from simple linear discriminant analysis: 0.8071748878923767\n"
     ]
    }
   ],
   "source": [
    "# Model 4 - Linear Discriminant Analysis\n",
    "lda = LinearDiscriminantAnalysis(solver='svd')\n",
    "lda_model = lda.fit(X_train,y_train)\n",
    "lda_preds = lda.predict(X_valid)\n",
    "print(f'Score from simple linear discriminant analysis: {accuracy_score(y_valid, lda_preds)}')"
   ]
  },
  {
   "cell_type": "markdown",
   "id": "cc7dd2e7",
   "metadata": {},
   "source": [
    "### Model Building (Parameter Tuning)"
   ]
  },
  {
   "cell_type": "code",
   "execution_count": 18,
   "id": "e42953e7",
   "metadata": {},
   "outputs": [
    {
     "name": "stdout",
     "output_type": "stream",
     "text": [
      "Best parameters: {'C': 0.1, 'penalty': 'l2', 'solver': 'liblinear'}\n",
      "Score from optimized logistic regression (ridge): 0.7892376681614349\n"
     ]
    }
   ],
   "source": [
    "# Model 5 - Ridge Classifier with cross-validation\n",
    "ridge_params = {'penalty': ['l2'], 'C': [0.001,0.01,0.1,1.0,10.0,100.0], 'solver': ['lbfgs','liblinear']}\n",
    "glm = LogisticRegression()\n",
    "glm_ridge = GridSearchCV(glm, ridge_params)\n",
    "glm_ridge.fit(X_train,y_train)\n",
    "\n",
    "print(f'Best parameters: {glm_ridge.best_params_}') \n",
    "glm_ridge_preds = glm_ridge.predict(X_valid) # Predict function automatically uses best parameters\n",
    "print(f'Score from optimized logistic regression (ridge): {accuracy_score(y_valid, glm_ridge_preds)}')"
   ]
  },
  {
   "cell_type": "code",
   "execution_count": 19,
   "id": "f0b5e6cc",
   "metadata": {},
   "outputs": [
    {
     "name": "stdout",
     "output_type": "stream",
     "text": [
      "Best parameters: {'C': 1.0, 'penalty': 'l1', 'solver': 'liblinear'}\n",
      "Score from optimized logistic regression (lasso): 0.7802690582959642\n"
     ]
    }
   ],
   "source": [
    "# Model 6 - Lasso Classifier with cross-validation\n",
    "lasso_params = {'penalty': ['l1'], 'C': [0.001,0.01,0.1,1.0,10.0,100.0], 'solver': ['liblinear']}\n",
    "glm = LogisticRegression()\n",
    "glm_lasso = GridSearchCV(glm, lasso_params)\n",
    "glm_lasso.fit(X_train,y_train)\n",
    "\n",
    "print(f'Best parameters: {glm_lasso.best_params_}') \n",
    "glm_lasso_preds = glm_lasso.predict(X_valid) # Predict function automatically uses best parameters\n",
    "print(f'Score from optimized logistic regression (lasso): {accuracy_score(y_valid, glm_lasso_preds)}')"
   ]
  },
  {
   "cell_type": "code",
   "execution_count": 21,
   "id": "df0a6756",
   "metadata": {},
   "outputs": [
    {
     "name": "stdout",
     "output_type": "stream",
     "text": [
      "Best parameters: {'max_depth': 10, 'n_estimators': 600}\n",
      "Score from optimized random forest: 0.8161434977578476\n"
     ]
    }
   ],
   "source": [
    "# Model 7 - RandomForestClassifier with cross-validation\n",
    "rf_params = {'n_estimators': [int(x) for x in np.linspace(start = 200, stop = 2000, num = 10)],\n",
    "             'max_depth': [int(x) for x in np.linspace(10, 110, num = 11)] }\n",
    "\n",
    "rf = RandomForestClassifier(random_state=100)\n",
    "\n",
    "rf_cv = GridSearchCV(rf, rf_params)\n",
    "rf_cv.fit(X_train,y_train)\n",
    "\n",
    "print(f'Best parameters: {rf_cv.best_params_}') \n",
    "rf_cv_preds = rf_cv.predict(X_valid) \n",
    "score = accuracy_score(y_valid, rf_cv_preds)\n",
    "print(f'Score from optimized random forest: {accuracy_score(y_valid, rf_cv_preds)}')"
   ]
  },
  {
   "cell_type": "code",
   "execution_count": 20,
   "id": "4ca555af",
   "metadata": {},
   "outputs": [
    {
     "name": "stdout",
     "output_type": "stream",
     "text": [
      "Best parameters: {'C': 1.0, 'gamma': 0.1, 'kernel': 'rbf'}\n",
      "Score from optimized SVM: 0.8385650224215246\n"
     ]
    }
   ],
   "source": [
    "# Model 8 - Support Vector Machine with cross-validation\n",
    "svc_params = {'kernel': ['rbf'], 'C': [0.001,0.01,0.1,1.0,10.0,100.0], 'gamma': [1,0.1,0.01,0.001,0.0001]}\n",
    "svc = SVC(random_state = 1000)\n",
    "svc_cv = GridSearchCV(svc, svc_params)\n",
    "svc_cv.fit(X_train,y_train)\n",
    "\n",
    "print(f'Best parameters: {svc_cv.best_params_}') \n",
    "svc_cv_preds = svc_cv.predict(X_valid) \n",
    "score = accuracy_score(y_valid, svc_cv_preds)\n",
    "print(f'Score from optimized SVM: {accuracy_score(y_valid, svc_cv_preds)}')"
   ]
  },
  {
   "cell_type": "code",
   "execution_count": null,
   "id": "895d4b2a",
   "metadata": {},
   "outputs": [],
   "source": []
  }
 ],
 "metadata": {
  "kernelspec": {
   "display_name": "Python 3 (ipykernel)",
   "language": "python",
   "name": "python3"
  },
  "language_info": {
   "codemirror_mode": {
    "name": "ipython",
    "version": 3
   },
   "file_extension": ".py",
   "mimetype": "text/x-python",
   "name": "python",
   "nbconvert_exporter": "python",
   "pygments_lexer": "ipython3",
   "version": "3.7.7"
  }
 },
 "nbformat": 4,
 "nbformat_minor": 5
}
