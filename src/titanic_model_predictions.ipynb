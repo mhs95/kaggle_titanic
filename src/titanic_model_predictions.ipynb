{
 "cells": [
  {
   "cell_type": "code",
   "execution_count": 1,
   "id": "386a0025",
   "metadata": {},
   "outputs": [],
   "source": [
    "import numpy as np\n",
    "import pandas as pd\n",
    "\n",
    "from sklearn.preprocessing import StandardScaler\n",
    "from sklearn.impute import SimpleImputer\n",
    "\n",
    "from sklearn.svm import SVC"
   ]
  },
  {
   "cell_type": "markdown",
   "id": "0cd383ae",
   "metadata": {},
   "source": [
    "### Prepare full training set data"
   ]
  },
  {
   "cell_type": "code",
   "execution_count": 2,
   "id": "5f703f6d",
   "metadata": {},
   "outputs": [
    {
     "data": {
      "text/html": [
       "<div>\n",
       "<style scoped>\n",
       "    .dataframe tbody tr th:only-of-type {\n",
       "        vertical-align: middle;\n",
       "    }\n",
       "\n",
       "    .dataframe tbody tr th {\n",
       "        vertical-align: top;\n",
       "    }\n",
       "\n",
       "    .dataframe thead th {\n",
       "        text-align: right;\n",
       "    }\n",
       "</style>\n",
       "<table border=\"1\" class=\"dataframe\">\n",
       "  <thead>\n",
       "    <tr style=\"text-align: right;\">\n",
       "      <th></th>\n",
       "      <th>PassengerId</th>\n",
       "      <th>Survived</th>\n",
       "      <th>Pclass</th>\n",
       "      <th>Name</th>\n",
       "      <th>Sex</th>\n",
       "      <th>Age</th>\n",
       "      <th>SibSp</th>\n",
       "      <th>Parch</th>\n",
       "      <th>Ticket</th>\n",
       "      <th>Fare</th>\n",
       "      <th>Cabin</th>\n",
       "      <th>Embarked</th>\n",
       "    </tr>\n",
       "  </thead>\n",
       "  <tbody>\n",
       "    <tr>\n",
       "      <th>0</th>\n",
       "      <td>1</td>\n",
       "      <td>0</td>\n",
       "      <td>3</td>\n",
       "      <td>Braund, Mr. Owen Harris</td>\n",
       "      <td>male</td>\n",
       "      <td>22.0</td>\n",
       "      <td>1</td>\n",
       "      <td>0</td>\n",
       "      <td>A/5 21171</td>\n",
       "      <td>7.2500</td>\n",
       "      <td>NaN</td>\n",
       "      <td>S</td>\n",
       "    </tr>\n",
       "    <tr>\n",
       "      <th>1</th>\n",
       "      <td>2</td>\n",
       "      <td>1</td>\n",
       "      <td>1</td>\n",
       "      <td>Cumings, Mrs. John Bradley (Florence Briggs Th...</td>\n",
       "      <td>female</td>\n",
       "      <td>38.0</td>\n",
       "      <td>1</td>\n",
       "      <td>0</td>\n",
       "      <td>PC 17599</td>\n",
       "      <td>71.2833</td>\n",
       "      <td>C85</td>\n",
       "      <td>C</td>\n",
       "    </tr>\n",
       "    <tr>\n",
       "      <th>2</th>\n",
       "      <td>3</td>\n",
       "      <td>1</td>\n",
       "      <td>3</td>\n",
       "      <td>Heikkinen, Miss. Laina</td>\n",
       "      <td>female</td>\n",
       "      <td>26.0</td>\n",
       "      <td>0</td>\n",
       "      <td>0</td>\n",
       "      <td>STON/O2. 3101282</td>\n",
       "      <td>7.9250</td>\n",
       "      <td>NaN</td>\n",
       "      <td>S</td>\n",
       "    </tr>\n",
       "    <tr>\n",
       "      <th>3</th>\n",
       "      <td>4</td>\n",
       "      <td>1</td>\n",
       "      <td>1</td>\n",
       "      <td>Futrelle, Mrs. Jacques Heath (Lily May Peel)</td>\n",
       "      <td>female</td>\n",
       "      <td>35.0</td>\n",
       "      <td>1</td>\n",
       "      <td>0</td>\n",
       "      <td>113803</td>\n",
       "      <td>53.1000</td>\n",
       "      <td>C123</td>\n",
       "      <td>S</td>\n",
       "    </tr>\n",
       "    <tr>\n",
       "      <th>4</th>\n",
       "      <td>5</td>\n",
       "      <td>0</td>\n",
       "      <td>3</td>\n",
       "      <td>Allen, Mr. William Henry</td>\n",
       "      <td>male</td>\n",
       "      <td>35.0</td>\n",
       "      <td>0</td>\n",
       "      <td>0</td>\n",
       "      <td>373450</td>\n",
       "      <td>8.0500</td>\n",
       "      <td>NaN</td>\n",
       "      <td>S</td>\n",
       "    </tr>\n",
       "  </tbody>\n",
       "</table>\n",
       "</div>"
      ],
      "text/plain": [
       "   PassengerId  Survived  Pclass  \\\n",
       "0            1         0       3   \n",
       "1            2         1       1   \n",
       "2            3         1       3   \n",
       "3            4         1       1   \n",
       "4            5         0       3   \n",
       "\n",
       "                                                Name     Sex   Age  SibSp  \\\n",
       "0                            Braund, Mr. Owen Harris    male  22.0      1   \n",
       "1  Cumings, Mrs. John Bradley (Florence Briggs Th...  female  38.0      1   \n",
       "2                             Heikkinen, Miss. Laina  female  26.0      0   \n",
       "3       Futrelle, Mrs. Jacques Heath (Lily May Peel)  female  35.0      1   \n",
       "4                           Allen, Mr. William Henry    male  35.0      0   \n",
       "\n",
       "   Parch            Ticket     Fare Cabin Embarked  \n",
       "0      0         A/5 21171   7.2500   NaN        S  \n",
       "1      0          PC 17599  71.2833   C85        C  \n",
       "2      0  STON/O2. 3101282   7.9250   NaN        S  \n",
       "3      0            113803  53.1000  C123        S  \n",
       "4      0            373450   8.0500   NaN        S  "
      ]
     },
     "execution_count": 2,
     "metadata": {},
     "output_type": "execute_result"
    }
   ],
   "source": [
    "# Set data path and load training data\n",
    "file_path = \"../data\"\n",
    "train_full = pd.read_csv(f'{file_path}/input/train.csv')\n",
    "train_full.head()"
   ]
  },
  {
   "cell_type": "code",
   "execution_count": 3,
   "id": "7cfa24ca",
   "metadata": {},
   "outputs": [],
   "source": [
    "# Drop unncessary columns \n",
    "train_full = train_full.drop(['Name', 'Ticket', 'PassengerId'], axis=1)\n",
    "\n",
    "# Drop cabin as it has too many missing\n",
    "train_full = train_full.drop('Cabin', axis=1)\n",
    "\n",
    "# Drop rows that have missing embarked as we cannot impute it\n",
    "train_full = train_full.dropna(subset = ['Embarked'])\n",
    "\n",
    "# Drop rows that have missing values for the target\n",
    "if train_full['Survived'].isnull().any() == True:\n",
    "    train_full = train_full.dropna(subset = ['Survived'])\n",
    "else:\n",
    "    pass"
   ]
  },
  {
   "cell_type": "markdown",
   "id": "9478471e",
   "metadata": {},
   "source": [
    "### Prepare test data to look like the final train data"
   ]
  },
  {
   "cell_type": "code",
   "execution_count": 4,
   "id": "191d5950",
   "metadata": {},
   "outputs": [
    {
     "name": "stdout",
     "output_type": "stream",
     "text": [
      "(418, 11)\n",
      "Pclass: 0.0\n",
      "Sex: 0.0\n",
      "Age: 0.20574162679425836\n",
      "SibSp: 0.0\n",
      "Parch: 0.0\n",
      "Fare: 0.0023923444976076554\n",
      "Cabin: 0.7822966507177034\n",
      "Embarked: 0.0\n"
     ]
    }
   ],
   "source": [
    "# Load test data\n",
    "test_full = pd.read_csv(f'{file_path}/input/test.csv')\n",
    "print(test_full.shape)\n",
    "test_full.head()\n",
    "\n",
    "# Drop unncessary columns \n",
    "ids = test_full['PassengerId']\n",
    "test_full = test_full.drop(['Name', 'Ticket', 'PassengerId'], axis=1)\n",
    "\n",
    "# Create objects for numerical and categorical columns\n",
    "object_cols = [col for col in test_full.columns if test_full[col].dtype == 'object']\n",
    "numerical_cols = [col for col in test_full.columns if test_full[col].dtype in ['int64', 'float64']]\n",
    "\n",
    "# Get a count of missing values for each variable\n",
    "for var in test_full.columns:\n",
    "    total_na = test_full[var].isnull().sum()\n",
    "    print(f'{var}: {total_na/len(test_full)}')\n",
    "    \n",
    "# Drop cabin as it has too many missing\n",
    "test_full = test_full.drop('Cabin', axis=1)"
   ]
  },
  {
   "cell_type": "code",
   "execution_count": 5,
   "id": "86703c60",
   "metadata": {},
   "outputs": [],
   "source": [
    "# Impute Fare and Age variables in the test set using information from the training set\n",
    "imp = SimpleImputer(strategy='mean')\n",
    "\n",
    "train_full['Age'] = imp.fit_transform(train_full[['Age']])\n",
    "test_full['Age'] = imp.transform(test_full[['Age']])\n",
    "\n",
    "train_full['Fare'] = imp.fit_transform(train_full[['Fare']])\n",
    "test_full['Fare'] = imp.transform(test_full[['Fare']])"
   ]
  },
  {
   "cell_type": "code",
   "execution_count": 6,
   "id": "4e20970c",
   "metadata": {},
   "outputs": [],
   "source": [
    "# For categorical variables in test and train, convert to dummies\n",
    "train_full = pd.get_dummies(train_full)\n",
    "test_full = pd.get_dummies(test_full)"
   ]
  },
  {
   "cell_type": "code",
   "execution_count": 7,
   "id": "23e725d9",
   "metadata": {},
   "outputs": [],
   "source": [
    "# Standardize numerical cols based on info from the train set\n",
    "# For numerical variables in train and test, standardize the variables\n",
    "# Create X and y objects\n",
    "X = train_full.drop('Survived', axis = 1)\n",
    "y = train_full['Survived']\n",
    "\n",
    "scaler = StandardScaler()\n",
    "X[numerical_cols] = scaler.fit_transform(X[numerical_cols])\n",
    "test_full[numerical_cols] = scaler.transform(test_full[numerical_cols])"
   ]
  },
  {
   "cell_type": "markdown",
   "id": "f8d0f21e",
   "metadata": {},
   "source": [
    "### Generate predictions for the test set"
   ]
  },
  {
   "cell_type": "code",
   "execution_count": 8,
   "id": "323fb005",
   "metadata": {},
   "outputs": [],
   "source": [
    "# Fit SVM \n",
    "svm = SVC(kernel = 'rbf', C = 1.0, gamma = 0.1, random_state = 1000)\n",
    "svm_model = svm.fit(X,y)\n",
    "svm_preds = svm_model.predict(test_full)\n",
    "\n",
    "output = pd.DataFrame({'PassengerId': ids, 'Survived': svm_preds})\n",
    "output.to_csv(f'{file_path}/output/submission.csv', index=False)"
   ]
  }
 ],
 "metadata": {
  "kernelspec": {
   "display_name": "Python 3 (ipykernel)",
   "language": "python",
   "name": "python3"
  },
  "language_info": {
   "codemirror_mode": {
    "name": "ipython",
    "version": 3
   },
   "file_extension": ".py",
   "mimetype": "text/x-python",
   "name": "python",
   "nbconvert_exporter": "python",
   "pygments_lexer": "ipython3",
   "version": "3.7.7"
  }
 },
 "nbformat": 4,
 "nbformat_minor": 5
}
